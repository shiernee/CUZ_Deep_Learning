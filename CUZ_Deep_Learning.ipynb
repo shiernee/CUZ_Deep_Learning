{
  "nbformat": 4,
  "nbformat_minor": 0,
  "metadata": {
    "colab": {
      "provenance": [],
      "include_colab_link": true
    },
    "kernelspec": {
      "name": "python3",
      "display_name": "Python 3"
    },
    "language_info": {
      "name": "python"
    }
  },
  "cells": [
    {
      "cell_type": "markdown",
      "metadata": {
        "id": "view-in-github",
        "colab_type": "text"
      },
      "source": [
        "<a href=\"https://colab.research.google.com/github/shiernee/CUZ_Deep_Learning/blob/main/CUZ_Deep_Learning.ipynb\" target=\"_parent\"><img src=\"https://colab.research.google.com/assets/colab-badge.svg\" alt=\"Open In Colab\"/></a>"
      ]
    },
    {
      "cell_type": "markdown",
      "source": [
        "#**Part 1: Google Colab Introductory Workshop**\n",
        "\n",
        "The first part of the workshop will introduce important features in available in Colab. <br>\n",
        "\n",
        "Colab is an interactive coding enviroment to get start to code easily. The code can be executed easily by click the *play* button on the cell. <br>\n",
        "\n",
        "Let's get started.\n"
      ],
      "metadata": {
        "id": "GayqW7yhijJg"
      }
    },
    {
      "cell_type": "markdown",
      "source": [
        " **Let's try to print *Hello World***\n"
      ],
      "metadata": {
        "id": "noriTQPlirkl"
      }
    },
    {
      "cell_type": "code",
      "source": [
        "print('Hello World')"
      ],
      "metadata": {
        "id": "dv7lLOQ1itIw"
      },
      "execution_count": null,
      "outputs": []
    },
    {
      "cell_type": "code",
      "source": [
        "# It's your turn to try.\n",
        "# Print your name.\n",
        "# Type your code below and click the play button to execute the cell.\n",
        "# You should see you name appear.\n"
      ],
      "metadata": {
        "id": "HLhMEUcRiuX8"
      },
      "execution_count": null,
      "outputs": []
    },
    {
      "cell_type": "markdown",
      "source": [
        "**Perform Calculation**"
      ],
      "metadata": {
        "id": "lbdwGLkUiwPF"
      }
    },
    {
      "cell_type": "code",
      "source": [
        "seconds_in_a_day = 24 * 60 * 60\n",
        "seconds_in_a_day"
      ],
      "metadata": {
        "id": "8j3LLfjDixZV"
      },
      "execution_count": null,
      "outputs": []
    },
    {
      "cell_type": "code",
      "source": [
        "# It's your turn to try.\n",
        "# Perform calculation of 45 divided by 20 and then multiplies by 8\n",
        "# Type your code below and click the play button to execute the cell.\n",
        "# You should get an answer of 18.\n"
      ],
      "metadata": {
        "id": "uA7gxh2fiyZb"
      },
      "execution_count": null,
      "outputs": []
    },
    {
      "cell_type": "code",
      "source": [
        "#@title Solution\n",
        "45/20*8"
      ],
      "metadata": {
        "cellView": "form",
        "id": "rroKBjaNi18z"
      },
      "execution_count": null,
      "outputs": []
    },
    {
      "cell_type": "markdown",
      "source": [
        "**Create a Loop**"
      ],
      "metadata": {
        "id": "KAM7Gw5Fi4HG"
      }
    },
    {
      "cell_type": "code",
      "source": [
        "# Creating a loop\n",
        "# Python always start from zero\n",
        "# range(start, end, step)\n",
        "\n",
        "for i in range(10):\n",
        "  print(i)"
      ],
      "metadata": {
        "id": "ssF_1qNzi5S4"
      },
      "execution_count": null,
      "outputs": []
    },
    {
      "cell_type": "code",
      "source": [
        "# It's your turn to try.\n",
        "# Create a loop to print from 2 to 10\n",
        "# Type your code below and click the play button to execute the cell.\n",
        "# You should get an answer of 2,3,4,5,6,7,8,9,10.\n"
      ],
      "metadata": {
        "id": "aIgP6Sd4i8Sb"
      },
      "execution_count": null,
      "outputs": []
    },
    {
      "cell_type": "code",
      "source": [
        "#@title Solution\n",
        "for i in range(2, 11):\n",
        "  print(i)"
      ],
      "metadata": {
        "cellView": "form",
        "id": "xBm-q37Ui9mm"
      },
      "execution_count": null,
      "outputs": []
    },
    {
      "cell_type": "code",
      "source": [
        "# It's your turn to try.\n",
        "# Create a loop to print from 2 to 10, by skipping 2\n",
        "# Type your code below and click the play button to execute the cell.\n",
        "# You should get an answer of 2,4,6,8,10\n"
      ],
      "metadata": {
        "id": "ITwAxfh_jALw"
      },
      "execution_count": null,
      "outputs": []
    },
    {
      "cell_type": "code",
      "source": [
        "#@title Solution\n",
        "for i in range(2, 11, 2):\n",
        "  print(i)"
      ],
      "metadata": {
        "cellView": "form",
        "id": "mPEL4oSujB80"
      },
      "execution_count": null,
      "outputs": []
    },
    {
      "cell_type": "markdown",
      "source": [
        "**Create a list of values**"
      ],
      "metadata": {
        "id": "xqDnDpP8i7gG"
      }
    },
    {
      "cell_type": "code",
      "source": [
        "# Create a list of value from 0 to 9\n",
        "x = []\n",
        "for i in range(10):\n",
        "  x.append(i)\n",
        "\n",
        "print(x)"
      ],
      "metadata": {
        "id": "xzdepehYjHoY"
      },
      "execution_count": null,
      "outputs": []
    },
    {
      "cell_type": "code",
      "source": [
        "# Another compact way to create a list of value\n",
        "x = [x for x in range(10)]\n",
        "print(x)"
      ],
      "metadata": {
        "id": "H7qZCgOBjJVS"
      },
      "execution_count": null,
      "outputs": []
    },
    {
      "cell_type": "code",
      "source": [
        "# It's your turn to try.\n",
        "# Create a list of value ranging from 2 to 10, by skipping 2\n",
        "# Type your code below and click the play button to execute the cell.\n",
        "# Print out the list. You should get [2,4,6,8,10]\n"
      ],
      "metadata": {
        "id": "bBJCUu1xjKmr"
      },
      "execution_count": null,
      "outputs": []
    },
    {
      "cell_type": "code",
      "source": [
        "#@title Solution\n",
        "\n",
        "x = [x for x in range(2, 11, 2)]\n",
        "print(x)"
      ],
      "metadata": {
        "cellView": "form",
        "id": "LnKcxvtdjMM_"
      },
      "execution_count": null,
      "outputs": []
    },
    {
      "cell_type": "markdown",
      "source": [
        "**Graph Visualization**"
      ],
      "metadata": {
        "id": "Srnj0lMIi6tw"
      }
    },
    {
      "cell_type": "code",
      "source": [
        "# We need to import packages\n",
        "# numpy for creating array and matplotlib for plotting\n",
        "\n",
        "import numpy as np\n",
        "from matplotlib import pyplot as plt\n",
        "\n",
        "ys = 200 + np.random.randn(100)  # create random numbers with a length of 100\n",
        "x = [x for x in range(len(ys))]\n",
        "x = np.array(x)\n",
        "\n",
        "plt.plot(x, ys, '-')\n",
        "plt.title(\"Sample Visualization\")\n",
        "plt.xlabel('x')\n",
        "plt.ylabel('y')\n",
        "plt.show()"
      ],
      "metadata": {
        "id": "VIAI6P7yjQkS"
      },
      "execution_count": null,
      "outputs": []
    },
    {
      "cell_type": "code",
      "source": [
        "# It's your turn to try.\n",
        "# Create a list of x-value ranging from 0 to 500, by skipping 2\n",
        "# Create a list of y-value using the formula y = 5x^2\n",
        "# square --> **; multiple --> *, divide --> /, plus --> +, minus --> -\n",
        "# Type your code below and click the play button to execute the cell.\n"
      ],
      "metadata": {
        "id": "UMWbF1DWjR_T"
      },
      "execution_count": null,
      "outputs": []
    },
    {
      "cell_type": "code",
      "source": [
        "#@title Solution\n",
        "import numpy as np\n",
        "from matplotlib import pyplot as plt\n",
        "\n",
        "x = [x for x in range(0, 501, 2)]\n",
        "x = np.array(x)\n",
        "ys = 5*(x**2)\n",
        "\n",
        "plt.plot(x, ys, '-')\n",
        "plt.title(\"Sample Visualization\")\n",
        "plt.xlabel('x')\n",
        "plt.ylabel('y')\n",
        "plt.show()"
      ],
      "metadata": {
        "cellView": "form",
        "id": "upTklzI_jTOi"
      },
      "execution_count": null,
      "outputs": []
    },
    {
      "cell_type": "markdown",
      "source": [
        "**Uploading files from your local file system** <br>\n",
        "files.upload returns a dictionary of the files which were uploaded. The dictionary is keyed by the file name and values are the data which were uploaded. <br>\n",
        "\n",
        "Refresh the folder in the left panel and you will the dataset you have uploaded."
      ],
      "metadata": {
        "id": "Z5NndeB-jVvg"
      }
    },
    {
      "cell_type": "code",
      "source": [
        "from google.colab import files\n",
        "\n",
        "uploaded = files.upload()\n",
        "\n",
        "for fn in uploaded.keys():\n",
        "  print('User uploaded file \"{name}\" with length {length} bytes'.format(\n",
        "      name=fn, length=len(uploaded[fn])))"
      ],
      "metadata": {
        "id": "7HmBI1WCjW6O"
      },
      "execution_count": null,
      "outputs": []
    },
    {
      "cell_type": "markdown",
      "source": [
        "# **Part 2: Classification of Breast cancer data with Artificial Neural Networks**\n",
        "\n",
        "Let's build a artificial neural network (ANN) classifier to classify type of breast cancer."
      ],
      "metadata": {
        "id": "4qLRs1DpuVwV"
      }
    },
    {
      "cell_type": "markdown",
      "source": [
        "##1. Import Data"
      ],
      "metadata": {
        "id": "ANq_4di-uiye"
      }
    },
    {
      "cell_type": "code",
      "source": [
        "import pandas as pd\n",
        "\n",
        "# Read the dataset from the CSV file\n",
        "df = pd.read_csv('breast_cancer_dataset.csv')\n",
        "\n",
        "# Display the first few rows of the dataset\n",
        "print(df.head())\n"
      ],
      "metadata": {
        "id": "quTY6g17uksI"
      },
      "execution_count": null,
      "outputs": []
    },
    {
      "cell_type": "code",
      "source": [
        "# Assign X (features) and y (target) from the DataFrame\n",
        "X = df.drop(columns=['target'])  # Exclude the target column for features\n",
        "y = df['target']  # Target column"
      ],
      "metadata": {
        "id": "0ERrQ6SSumiH"
      },
      "execution_count": null,
      "outputs": []
    },
    {
      "cell_type": "code",
      "source": [
        "# split data into train and test\n",
        "from sklearn.model_selection import train_test_split\n",
        "\n",
        "X_train, X_test, y_train, y_test = train_test_split(X, y, test_size=0.33, random_state=42)\n",
        "print('X_train shape: ', X_train.shape)\n",
        "print('X_test shape: ', X_test.shape)"
      ],
      "metadata": {
        "id": "TIWKSEHLuq5l"
      },
      "execution_count": null,
      "outputs": []
    },
    {
      "cell_type": "code",
      "source": [
        "# Create the hidden layer structure\n",
        "# hidden_layer_sizes = (5)  # 1 hidden layer\n",
        "# hidden_layer_sizes = (20, 20)  # 2 hidden layers\n",
        "# hidden_layer_sizes = (30, 50, 100)  # 3 hidden layers\n"
      ],
      "metadata": {
        "id": "0BHhJyEfmYXq"
      },
      "execution_count": null,
      "outputs": []
    },
    {
      "cell_type": "code",
      "source": [
        "import warnings\n",
        "from sklearn.neural_network import MLPClassifier\n",
        "from sklearn.metrics import log_loss\n",
        "\n",
        "# Suppress ConvergenceWarning\n",
        "warnings.filterwarnings(\"ignore\", category=UserWarning, module=\"sklearn\")\n",
        "\n",
        "\n",
        "# Initialize the MLP classifier with warm_start\n",
        "clf = MLPClassifier(hidden_layer_sizes=hidden_layer_sizes, max_iter=1, warm_start=True, random_state=42)\n",
        "\n",
        "# Variables to store loss at each epoch\n",
        "train_loss_curve = []\n",
        "test_loss_curve = []\n",
        "\n",
        "# Define the number of epochs\n",
        "n_epochs = 50\n",
        "\n",
        "# Train incrementally while capturing train and test loss\n",
        "for epoch in range(n_epochs):\n",
        "    clf.fit(X_train, y_train)  # Incremental training with warm_start=True\n",
        "    train_loss_curve.append(clf.loss_)  # Training loss\n",
        "    test_loss_curve.append(log_loss(y_test, clf.predict_proba(X_test)))  # Test loss\n",
        "\n",
        "# Plot the training and test loss curves\n",
        "plt.figure(figsize=(8, 6))\n",
        "plt.plot(train_loss_curve, label='Training Loss')\n",
        "plt.plot(test_loss_curve, label='Test Loss', linestyle='--')\n",
        "plt.xlabel('Epochs')\n",
        "plt.ylabel('Loss')\n",
        "plt.title('Training and Test Loss Curve')\n",
        "plt.legend()\n",
        "plt.grid()\n",
        "plt.show()\n"
      ],
      "metadata": {
        "id": "enPt_iz3lurg"
      },
      "execution_count": null,
      "outputs": []
    },
    {
      "cell_type": "code",
      "source": [
        "#Predict the response for test dataset\n",
        "y_pred = clf.predict(X_test)\n",
        "y_pred"
      ],
      "metadata": {
        "id": "e3aP4i9dvxjj"
      },
      "execution_count": null,
      "outputs": []
    },
    {
      "cell_type": "code",
      "source": [
        "# Model Evaluation\n",
        "from sklearn import metrics\n",
        "\n",
        "print(\"Testing Accuracy:\",metrics.accuracy_score(y_test, y_pred))"
      ],
      "metadata": {
        "id": "Iq9LVMtIvylT"
      },
      "execution_count": null,
      "outputs": []
    },
    {
      "cell_type": "markdown",
      "source": [
        "# **Part 3: Experiment**\n",
        "\n",
        "*   Increase the number of hidden node from 5, 20, 50, 100\n",
        "*   Increase the number of hidden layer from 1, 2, 3\n",
        "*   What is the best architecture?\n",
        "\n",
        "What do you observed?"
      ],
      "metadata": {
        "id": "lULfi8kwLFAu"
      }
    },
    {
      "cell_type": "markdown",
      "source": [
        "# **Extra: Train a ML model to predict SGA?AGA**\n",
        "\n",
        "*   SGA_trainingdata.csv\n",
        "*   SGA_testingdata.csv\n",
        "\n",
        "What is the best model accuracy you obtained?"
      ],
      "metadata": {
        "id": "VGbHHzUwoZ7h"
      }
    },
    {
      "cell_type": "markdown",
      "source": [
        "# Additional References\n",
        "\n",
        "- Concept of Convolutional Neural Network - https://www.youtube.com/watch?v=zfiSAzpy9NM\n",
        "- Convolutional Neural Network with MNIST datasets - https://www.geeksforgeeks.org/applying-convolutional-neural-network-on-mnist-dataset/\n",
        "- Concept Recurrent Neural Network - https://www.youtube.com/watch?v=AsNTP8Kwu80&ab_channel=StatQuestwithJoshStarmer\n",
        "- Recurrent Neural Network with Text - https://www.geeksforgeeks.org/introduction-to-recurrent-neural-network/\n",
        "- Reinforcement Learning - https://www.geeksforgeeks.org/what-is-reinforcement-learning/\n",
        "- Generative AI - https://www.nvidia.com/en-us/glossary/generative-ai/"
      ],
      "metadata": {
        "id": "C4hDLwSQuWyx"
      }
    },
    {
      "cell_type": "markdown",
      "source": [
        "# Acknowledgements\n",
        "\n",
        "The contents is inspired and based on Lex Friedman's [tutorial_deep_learning_basic.ipynb](https://colab.research.google.com/github/lexfridman/mit-deep-learning/blob/master/tutorial_deep_learning_basics/deep_learning_basics.ipynb#scrollTo=IysPmcOBHBE9)"
      ],
      "metadata": {
        "id": "J9pfMQrDMNEb"
      }
    }
  ]
}